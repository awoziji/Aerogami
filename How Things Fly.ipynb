{
 "cells": [
  {
   "cell_type": "markdown",
   "metadata": {},
   "source": [
    "**Simple explanation of how things fly**\n",
    "===\n",
    "\n",
    "How does an airplane fly? Can you explain how you think things fly? \n",
    "Ask this to your students / participants. Take a note of their reply. \n",
    "Most replies should boil down to this: \n",
    "1.\tIt has to move up and down in air\n",
    "2. It has to move forward in air and land.\n",
    "\n",
    "**Moving forward (in land and air):**\n",
    "\n",
    "Quick question: How do you think a car moves forward? \n",
    "Note to facilitators: Take note of the answers. When they come to car engines, tell them an airplane also has engines that helps them move forward. \n",
    "Additional questions: \n",
    "Moving forward in land (before the plane takes off and after it lands) is similar cars. They use the wheels.\n",
    "\n",
    "The tricky part for an airplane is to move forward while it’s in air. \n",
    "While we deal with how it stays up in the air later, let’s learn how it moves forward in air. \n"
   ]
  },
  {
   "cell_type": "code",
   "execution_count": null,
   "metadata": {
    "collapsed": true
   },
   "outputs": [],
   "source": []
  }
 ],
 "metadata": {
  "anaconda-cloud": {},
  "kernelspec": {
   "display_name": "Python [default]",
   "language": "python",
   "name": "python3"
  },
  "language_info": {
   "codemirror_mode": {
    "name": "ipython",
    "version": 3
   },
   "file_extension": ".py",
   "mimetype": "text/x-python",
   "name": "python",
   "nbconvert_exporter": "python",
   "pygments_lexer": "ipython3",
   "version": "3.5.2"
  }
 },
 "nbformat": 4,
 "nbformat_minor": 1
}
