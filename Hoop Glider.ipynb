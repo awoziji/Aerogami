{
 "cells": [
  {
   "cell_type": "markdown",
   "metadata": {},
   "source": [
    "# Lesson Plan: Hoop Glider"
   ]
  },
  {
   "cell_type": "markdown",
   "metadata": {},
   "source": [
    "| a | b |\n",
    "|---|---|\n",
    "| b | a |"
   ]
  },
  {
   "cell_type": "markdown",
   "metadata": {},
   "source": [
    "__Goals/Objectives:__ \n",
    "> Students will be able to learn to follow stepwise instructions and make their own loop glider.\n",
    "\n",
    "__Prior Knowledge required:__\n",
    "> None.\n",
    "\n",
    "__Essential Question:__\n",
    "> What is the relationship between the shape and position of the loops in the flight time of the loop glide.\n",
    "\n",
    "__Description of lesson:__  \n",
    "> Students will follow the instruction to make a loop glide to make one in pairs. \n",
    "> Students will cut different shapes of loops and attach onto a straw pipes and fly it. \n",
    "> The students will try to fly it the furthest. \n"
   ]
  },
  {
   "cell_type": "code",
   "execution_count": null,
   "metadata": {
    "collapsed": true
   },
   "outputs": [],
   "source": []
  }
 ],
 "metadata": {
  "anaconda-cloud": {},
  "kernelspec": {
   "display_name": "Python [default]",
   "language": "python",
   "name": "python3"
  },
  "language_info": {
   "codemirror_mode": {
    "name": "ipython",
    "version": 3
   },
   "file_extension": ".py",
   "mimetype": "text/x-python",
   "name": "python",
   "nbconvert_exporter": "python",
   "pygments_lexer": "ipython3",
   "version": "3.5.2"
  }
 },
 "nbformat": 4,
 "nbformat_minor": 1
}
