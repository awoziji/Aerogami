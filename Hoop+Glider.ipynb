{
 "cells": [
  {
   "cell_type": "markdown",
   "metadata": {},
   "source": [
    "# Lesson Plan: Hoop Glider"
   ]
  },
  {
   "cell_type": "markdown",
   "metadata": {},
   "source": [
    "__Goals/Objectives:__ \n",
    "> Students will be able to learn to follow stepwise instructions and make their own loop glider.\n",
    "\n",
    "__Prior Knowledge required:__\n",
    "> None.\n",
    "\n",
    "__Essential Question:__\n",
    "> What is the relationship between the shape and position of the loops in the flight time of the loop glide.\n",
    "\n",
    "__Description of lesson:__  \n",
    "> Students will follow the instruction to make a loop glide to make one in pairs. \n",
    "> Students will cut different shapes of loops and attach onto a straw pipes and fly it. \n",
    "> The students will try to fly it the furthest. \n",
    "\n",
    "__Preparation: Groups of 2 student each__\n",
    "\n",
    "|Material|Number per group|\n",
    "|---|---|\n",
    "|Straw Pipe|1|\n",
    "|Scissor pack|1|\n",
    "|Cello tape|1|\n",
    "|A4 color paper|1/2|\n",
    "|Ruler|1|\n",
    "|Pencil|1|\n",
    "\n",
    "__Lesson: Hoop Glider__\n",
    "\n",
    "|Steps/Timing|Details|\n",
    "|---|---|\n",
    "|Initial warm up|Ask if students have seen a paper plane before|\n",
    "|Questions to get neurons fired up| What is the shape of an axe? Why is it so? |\n",
    "||What is the shape of a fish? (Draw a fish.) Why is it so?|\n",
    "||What is the shape of an airplane? Why is it so?|\n",
    "||From which end do you hold and throw a paper plane? Why?|\n",
    "||Show a ready made hoop glider and ask students how they would launch it. Ask them why?|\n",
    "|Making the hoop glider|Give students the materials, handouts, and demonstrate if necessary|\n",
    "||Ask them to make one of their own and add their name to the glider (by pasting a paper)|\n",
    "|The launch|Line students up and get them to fly|\n",
    "||Ask the students whose glider flew the longest to share their model|\n",
    "|Experimenting with design|Ask students to come up with different designs by varying parameters like diameter of hoops, length of straw, and testing the flight after changes.|\n",
    "|Reasoning exercise|Ask students to hypothesize how certain design changes affected flight.|"
   ]
  },
  {
   "cell_type": "code",
   "execution_count": null,
   "metadata": {
    "collapsed": false
   },
   "outputs": [],
   "source": []
  },
  {
   "cell_type": "code",
   "execution_count": null,
   "metadata": {
    "collapsed": true
   },
   "outputs": [],
   "source": []
  }
 ],
 "metadata": {
  "anaconda-cloud": {},
  "kernelspec": {
   "display_name": "Python [default]",
   "language": "python",
   "name": "python3"
  },
  "language_info": {
   "codemirror_mode": {
    "name": "ipython",
    "version": 3
   },
   "file_extension": ".py",
   "mimetype": "text/x-python",
   "name": "python",
   "nbconvert_exporter": "python",
   "pygments_lexer": "ipython3",
   "version": "3.5.2"
  }
 },
 "nbformat": 4,
 "nbformat_minor": 1
}
